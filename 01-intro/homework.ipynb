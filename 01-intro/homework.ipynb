{
 "cells": [
  {
   "cell_type": "code",
   "execution_count": 1,
   "id": "110e7165-45bb-4fb4-9022-4874cd158171",
   "metadata": {},
   "outputs": [],
   "source": [
    "import groq"
   ]
  },
  {
   "cell_type": "code",
   "execution_count": 2,
   "id": "8c810243-c4a5-4320-b85b-fbafd1feefe5",
   "metadata": {},
   "outputs": [],
   "source": [
    "from groq import Groq"
   ]
  },
  {
   "cell_type": "code",
   "execution_count": 3,
   "id": "1efa6800-c4e0-4b30-ae6c-b4068487e33a",
   "metadata": {},
   "outputs": [],
   "source": [
    "client = Groq()"
   ]
  },
  {
   "cell_type": "code",
   "execution_count": 4,
   "id": "145e3534-e29b-4320-9a85-20f28fc80969",
   "metadata": {},
   "outputs": [],
   "source": [
    "completion = client.chat.completions.create(model='compound-beta',\n",
    "                                            messages=[\n",
    "                                                    {\"role\": \"user\",\n",
    "                                                    \"content\": \"is it too late to join the course?\"\n",
    "                                                      }\n",
    "                                                     ])"
   ]
  },
  {
   "cell_type": "code",
   "execution_count": 5,
   "id": "0375c376-3e63-4f8e-952f-82614a6ed331",
   "metadata": {},
   "outputs": [
    {
     "data": {
      "text/plain": [
       "'To answer your initial question, \"is it too late to join the course?\", I need more information about the course, such as its start date, current date, and enrollment deadline. \\n\\nSince I don\\'t have this information, I couldn\\'t determine if it\\'s too late to join the course. However, I can suggest possible ways to find the answer:\\n1. Check the course website or platform for enrollment deadlines.\\n2. Contact the course instructor or support team directly.\\n\\nI also searched for general information about enrollment deadlines for courses, but the results were not specific to the course you\\'re interested in. The deadlines vary depending on the institution and course.\\n\\nTo get a more accurate answer, could you please provide more context or details about the course, such as:\\n1. Institution or platform offering the course\\n2. Course start date\\n3. Any specific enrollment deadlines mentioned\\n\\nWith this information, I can try to provide a more informed answer. However, based on the information available, **it\\'s unclear if it\\'s too late to join the course**. I recommend checking the course website or contacting the instructor to determine the enrollment deadline and whether you can still join.'"
      ]
     },
     "execution_count": 5,
     "metadata": {},
     "output_type": "execute_result"
    }
   ],
   "source": [
    "completion.choices[0].message.content"
   ]
  }
 ],
 "metadata": {
  "kernelspec": {
   "display_name": "Python 3 (ipykernel)",
   "language": "python",
   "name": "python3"
  },
  "language_info": {
   "codemirror_mode": {
    "name": "ipython",
    "version": 3
   },
   "file_extension": ".py",
   "mimetype": "text/x-python",
   "name": "python",
   "nbconvert_exporter": "python",
   "pygments_lexer": "ipython3",
   "version": "3.12.3"
  }
 },
 "nbformat": 4,
 "nbformat_minor": 5
}
