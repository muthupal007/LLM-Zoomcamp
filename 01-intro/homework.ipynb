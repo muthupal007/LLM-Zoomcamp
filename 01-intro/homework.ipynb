{
 "cells": [
  {
   "cell_type": "code",
   "execution_count": 2,
   "id": "110e7165-45bb-4fb4-9022-4874cd158171",
   "metadata": {},
   "outputs": [],
   "source": [
    "import groq"
   ]
  },
  {
   "cell_type": "code",
   "execution_count": 3,
   "id": "8c810243-c4a5-4320-b85b-fbafd1feefe5",
   "metadata": {},
   "outputs": [],
   "source": [
    "from groq import Groq"
   ]
  },
  {
   "cell_type": "code",
   "execution_count": 4,
   "id": "1efa6800-c4e0-4b30-ae6c-b4068487e33a",
   "metadata": {},
   "outputs": [],
   "source": [
    "client = Groq()"
   ]
  },
  {
   "cell_type": "code",
   "execution_count": 10,
   "id": "145e3534-e29b-4320-9a85-20f28fc80969",
   "metadata": {},
   "outputs": [],
   "source": [
    "completion = client.chat.completions.create(model='compound-beta',\n",
    "                                            messages=[\n",
    "                                                    {\"role\": \"user\",\n",
    "                                                    \"content\": \"is it too late to join the course?\"\n",
    "                                                      }\n",
    "                                                     ])"
   ]
  },
  {
   "cell_type": "code",
   "execution_count": 13,
   "id": "0375c376-3e63-4f8e-952f-82614a6ed331",
   "metadata": {},
   "outputs": [
    {
     "data": {
      "text/plain": [
       "\"Based on the information I've gathered, I couldn't find a specific course or institution that you're referring to. However, I can provide a general answer.\\n\\nTo determine if it's too late to join the course, you should check the course's enrollment deadline or contact the course administrator. Enrollment deadlines vary depending on the institution and the specific course.\\n\\nIf the course has already started, it's possible that you may still be able to join, but it depends on the course's policies and the instructor's discretion. Some courses may have a late enrollment period or allow students to join with permission from the instructor.\\n\\nIf you're interested in joining a course, I recommend checking the course's website, syllabus, or contacting the course administrator to inquire about the enrollment deadline and any possible late enrollment options.\\n\\nIn general, it's not too late to join a course until the enrollment deadline has passed or the course has reached its maximum capacity. However, it's essential to check with the course administrator to determine the specific enrollment policies and deadlines for the course you're interested in.\\n\\nTo get a more specific answer, please provide more information about the course, such as its name, institution, or start date. I'll do my best to help you determine if it's too late to join the course.\""
      ]
     },
     "execution_count": 13,
     "metadata": {},
     "output_type": "execute_result"
    }
   ],
   "source": [
    "completion.choices[0].message.content"
   ]
  }
 ],
 "metadata": {
  "kernelspec": {
   "display_name": "Python 3 (ipykernel)",
   "language": "python",
   "name": "python3"
  },
  "language_info": {
   "codemirror_mode": {
    "name": "ipython",
    "version": 3
   },
   "file_extension": ".py",
   "mimetype": "text/x-python",
   "name": "python",
   "nbconvert_exporter": "python",
   "pygments_lexer": "ipython3",
   "version": "3.12.3"
  }
 },
 "nbformat": 4,
 "nbformat_minor": 5
}
